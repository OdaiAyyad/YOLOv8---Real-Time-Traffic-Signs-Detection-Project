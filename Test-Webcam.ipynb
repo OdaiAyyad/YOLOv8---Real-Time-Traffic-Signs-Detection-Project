{
 "cells": [
  {
   "cell_type": "code",
   "execution_count": null,
   "id": "e3085ad2-e0ad-4c6d-bbf9-8b876e4a6869",
   "metadata": {
    "tags": []
   },
   "outputs": [],
   "source": [
    "import ultralytics\n",
    "from ultralytics import YOLO\n",
    "import cv2\n",
    "\n",
    "ultralytics.checks()"
   ]
  },
  {
   "cell_type": "code",
   "execution_count": null,
   "id": "c215c334-f0a2-436e-8cd9-3b7451183545",
   "metadata": {},
   "outputs": [],
   "source": [
    "from ultralytics.models.yolo.detect.predict import DetectionPredictor\n",
    "\n",
    "#Testing the YOLOv8l original pretrained model\n",
    "model = YOLO(r\"E:\\DL Project\\yolov8l.pt\")\n",
    "\n",
    "results = model.predict(source='0', show=True)\n",
    "\n",
    "print(results)"
   ]
  },
  {
   "cell_type": "code",
   "execution_count": null,
   "id": "172880b2-4e53-44de-920c-31e9f99b8a94",
   "metadata": {
    "tags": []
   },
   "outputs": [],
   "source": [
    "from ultralytics.models.yolo.detect.predict import DetectionPredictor\n",
    "\n",
    "#Testing our trained model\n",
    "model = YOLO(r\"E:\\DL Project\\best.pt\")\n",
    "\n",
    "results = model.predict(source='0', show=True)\n",
    "\n",
    "print(results)"
   ]
  },
  {
   "cell_type": "code",
   "execution_count": null,
   "id": "c00c7290-f5a9-4f8f-9601-d4b8480ca5a6",
   "metadata": {},
   "outputs": [],
   "source": []
  }
 ],
 "metadata": {
  "kernelspec": {
   "display_name": "Python 3 (ipykernel)",
   "language": "python",
   "name": "python3"
  },
  "language_info": {
   "codemirror_mode": {
    "name": "ipython",
    "version": 3
   },
   "file_extension": ".py",
   "mimetype": "text/x-python",
   "name": "python",
   "nbconvert_exporter": "python",
   "pygments_lexer": "ipython3",
   "version": "3.11.5"
  }
 },
 "nbformat": 4,
 "nbformat_minor": 5
}
